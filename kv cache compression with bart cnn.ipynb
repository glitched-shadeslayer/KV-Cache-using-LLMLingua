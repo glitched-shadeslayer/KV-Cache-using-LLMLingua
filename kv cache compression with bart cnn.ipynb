{
 "cells": [
  {
   "cell_type": "code",
   "execution_count": 1,
   "id": "24941ae1-8c38-4a5e-a229-46a45f88c963",
   "metadata": {
    "scrolled": true
   },
   "outputs": [
    {
     "name": "stdout",
     "output_type": "stream",
     "text": [
      "Defaulting to user installation because normal site-packages is not writeable\n",
      "Requirement already satisfied: datasets in /opt/conda/lib/python3.11/site-packages (3.1.0)\n",
      "Requirement already satisfied: filelock in /opt/conda/lib/python3.11/site-packages (from datasets) (3.13.1)\n",
      "Requirement already satisfied: numpy>=1.17 in /opt/conda/lib/python3.11/site-packages (from datasets) (1.26.4)\n",
      "Requirement already satisfied: pyarrow>=15.0.0 in /opt/conda/lib/python3.11/site-packages (from datasets) (15.0.2)\n",
      "Requirement already satisfied: dill<0.3.9,>=0.3.0 in /opt/conda/lib/python3.11/site-packages (from datasets) (0.3.8)\n",
      "Requirement already satisfied: pandas in /opt/conda/lib/python3.11/site-packages (from datasets) (2.2.3)\n",
      "Requirement already satisfied: requests>=2.32.2 in /opt/conda/lib/python3.11/site-packages (from datasets) (2.32.3)\n",
      "Requirement already satisfied: tqdm>=4.66.3 in /opt/conda/lib/python3.11/site-packages (from datasets) (4.67.1)\n",
      "Requirement already satisfied: xxhash in /opt/conda/lib/python3.11/site-packages (from datasets) (3.5.0)\n",
      "Requirement already satisfied: multiprocess<0.70.17 in /opt/conda/lib/python3.11/site-packages (from datasets) (0.70.16)\n",
      "Requirement already satisfied: fsspec<=2024.9.0,>=2023.1.0 in /opt/conda/lib/python3.11/site-packages (from fsspec[http]<=2024.9.0,>=2023.1.0->datasets) (2024.3.1)\n",
      "Requirement already satisfied: aiohttp in /opt/conda/lib/python3.11/site-packages (from datasets) (3.9.3)\n",
      "Requirement already satisfied: huggingface-hub>=0.23.0 in /opt/conda/lib/python3.11/site-packages (from datasets) (0.26.3)\n",
      "Requirement already satisfied: packaging in /opt/conda/lib/python3.11/site-packages (from datasets) (24.0)\n",
      "Requirement already satisfied: pyyaml>=5.1 in /opt/conda/lib/python3.11/site-packages (from datasets) (6.0.1)\n",
      "Requirement already satisfied: aiosignal>=1.1.2 in /opt/conda/lib/python3.11/site-packages (from aiohttp->datasets) (1.3.1)\n",
      "Requirement already satisfied: attrs>=17.3.0 in /opt/conda/lib/python3.11/site-packages (from aiohttp->datasets) (23.2.0)\n",
      "Requirement already satisfied: frozenlist>=1.1.1 in /opt/conda/lib/python3.11/site-packages (from aiohttp->datasets) (1.4.1)\n",
      "Requirement already satisfied: multidict<7.0,>=4.5 in /opt/conda/lib/python3.11/site-packages (from aiohttp->datasets) (6.0.5)\n",
      "Requirement already satisfied: yarl<2.0,>=1.0 in /opt/conda/lib/python3.11/site-packages (from aiohttp->datasets) (1.9.4)\n",
      "Requirement already satisfied: typing-extensions>=3.7.4.3 in /opt/conda/lib/python3.11/site-packages (from huggingface-hub>=0.23.0->datasets) (4.11.0)\n",
      "Requirement already satisfied: charset-normalizer<4,>=2 in /opt/conda/lib/python3.11/site-packages (from requests>=2.32.2->datasets) (3.3.2)\n",
      "Requirement already satisfied: idna<4,>=2.5 in /opt/conda/lib/python3.11/site-packages (from requests>=2.32.2->datasets) (3.7)\n",
      "Requirement already satisfied: urllib3<3,>=1.21.1 in /opt/conda/lib/python3.11/site-packages (from requests>=2.32.2->datasets) (2.2.1)\n",
      "Requirement already satisfied: certifi>=2017.4.17 in /opt/conda/lib/python3.11/site-packages (from requests>=2.32.2->datasets) (2024.8.30)\n",
      "Requirement already satisfied: python-dateutil>=2.8.2 in /opt/conda/lib/python3.11/site-packages (from pandas->datasets) (2.9.0)\n",
      "Requirement already satisfied: pytz>=2020.1 in /opt/conda/lib/python3.11/site-packages (from pandas->datasets) (2024.1)\n",
      "Requirement already satisfied: tzdata>=2022.7 in /opt/conda/lib/python3.11/site-packages (from pandas->datasets) (2024.1)\n",
      "Requirement already satisfied: six>=1.5 in /opt/conda/lib/python3.11/site-packages (from python-dateutil>=2.8.2->pandas->datasets) (1.16.0)\n"
     ]
    }
   ],
   "source": [
    "!pip install datasets"
   ]
  },
  {
   "cell_type": "code",
   "execution_count": 2,
   "id": "2931103a-7e96-4914-9be6-567b68a9d87b",
   "metadata": {},
   "outputs": [
    {
     "name": "stderr",
     "output_type": "stream",
     "text": [
      "2025-03-11 18:28:01.117905: E external/local_xla/xla/stream_executor/cuda/cuda_dnn.cc:9261] Unable to register cuDNN factory: Attempting to register factory for plugin cuDNN when one has already been registered\n",
      "2025-03-11 18:28:01.117970: E external/local_xla/xla/stream_executor/cuda/cuda_fft.cc:607] Unable to register cuFFT factory: Attempting to register factory for plugin cuFFT when one has already been registered\n",
      "2025-03-11 18:28:01.119335: E external/local_xla/xla/stream_executor/cuda/cuda_blas.cc:1515] Unable to register cuBLAS factory: Attempting to register factory for plugin cuBLAS when one has already been registered\n",
      "2025-03-11 18:28:01.128228: I tensorflow/core/platform/cpu_feature_guard.cc:182] This TensorFlow binary is optimized to use available CPU instructions in performance-critical operations.\n",
      "To enable the following instructions: AVX2 FMA, in other operations, rebuild TensorFlow with the appropriate compiler flags.\n"
     ]
    }
   ],
   "source": [
    "import os\n",
    "import json\n",
    "import time\n",
    "import torch\n",
    "from datasets import load_dataset\n",
    "from transformers import BartForConditionalGeneration, BartTokenizer"
   ]
  },
  {
   "cell_type": "code",
   "execution_count": 3,
   "id": "a1ef0330-00dc-4e16-89d6-530d52265bae",
   "metadata": {},
   "outputs": [
    {
     "name": "stdout",
     "output_type": "stream",
     "text": [
      "cuda\n"
     ]
    }
   ],
   "source": [
    "ratios = [0.5, 0.6, 0.7]\n",
    "device = torch.device(\"cuda\" if torch.cuda.is_available() else \"cpu\")\n",
    "print(device)"
   ]
  },
  {
   "cell_type": "code",
   "execution_count": 4,
   "id": "63fed378-1190-446b-af0b-62e13a9bac9f",
   "metadata": {},
   "outputs": [],
   "source": [
    "dataset_name = \"multifieldqa_en\"\n",
    "dataset = load_dataset(\"THUDM/LongBench\", dataset_name, split=\"test\", cache_dir=\"custom_cache_dir\")\n",
    "model_name = 'facebook/bart-large-cnn'\n",
    "model = BartForConditionalGeneration.from_pretrained(model_name)\n",
    "model.to(device)\n",
    "tokenizer = BartTokenizer.from_pretrained(model_name)"
   ]
  },
  {
   "cell_type": "code",
   "execution_count": 5,
   "id": "6242462c-4e1b-44d3-9317-d46cdc410b7a",
   "metadata": {},
   "outputs": [],
   "source": [
    "def summarize_text(input_text, tokenizer, model, ratio):\n",
    "  inputs = tokenizer(input_text, return_tensors=\"pt\", truncation=True, max_length=1024).to(device)\n",
    "  input_token_length = inputs['input_ids'].shape[1]  # Number of tokens in the input\n",
    "  # Calculate ratio of the input token length\n",
    "  target_length = int(input_token_length * ratio)\n",
    "  # print(f\"Input token length: {input_token_length}. Target token length (50%): {target_length}\")\n",
    "  summary_ids = model.generate(\n",
    "    inputs['input_ids'], \n",
    "    num_beams=4,\n",
    "    max_length=target_length,\n",
    "    min_length=min(max(target_length - 100, 50), target_length),\n",
    "    length_penalty=2.0,  # Encourage a more concise summary\n",
    "    early_stopping=True\n",
    "  )\n",
    "  summary = tokenizer.decode(summary_ids[0], skip_special_tokens=True)\n",
    "  return summary\n",
    "\n",
    "def generate_multiple_summaries(input_text, tokenizer, model, ratio):\n",
    "  idx = 0\n",
    "  input_len = len(input_text)\n",
    "  summary = \"\"\n",
    "  while idx < input_len:\n",
    "    # print(idx)\n",
    "    end_idx = min(idx+4000, input_len)\n",
    "    summary += \" \" + summarize_text(input_text[idx:end_idx], tokenizer, model, ratio)\n",
    "    idx = end_idx + 1\n",
    "  return summary"
   ]
  },
  {
   "cell_type": "code",
   "execution_count": null,
   "id": "4fff16f9-98de-4b5a-b2db-19017b1aca82",
   "metadata": {},
   "outputs": [],
   "source": [
    "start_time = time.time()\n",
    "summarized_data_ratio1 = []\n",
    "ctr = 0\n",
    "\n",
    "for item in dataset:\n",
    "    print(ctr)\n",
    "    ctr += 1\n",
    "    time1 = time.time()\n",
    "    try:\n",
    "        summarized_context = generate_multiple_summaries(item['context'], tokenizer, model, ratios[0])\n",
    "        input_text = \"Read the following text and answer briefly.\\n\\n{context}\\n\\nNow, answer the following question based on the above text, only give me the answer and do not output any other words.\\n\\nQuestion: {input}\\nAnswer:\".format(context=summarized_context, input=item[\"input\"])\n",
    "        summarized_item = item.copy()\n",
    "        summarized_item[\"summary\"] = input_text\n",
    "        summarized_data_ratio1.append(summarized_item)\n",
    "    except Exception as e:\n",
    "        print(f\"Error summarizing item: {e}\")\n",
    "        summarized_item = item.copy()\n",
    "        summarized_item[\"summary\"] = \"Summary Failed\"\n",
    "        summarized_data_ratio1.append(summarized_item)\n",
    "    print(\"time taken for this step = \", time.time() - time1)\n",
    "\n",
    "end_time = time.time()\n",
    "execution_time = end_time - start_time\n",
    "print(\"Execution time = \", execution_time)\n",
    "\n",
    "output_file_path = \"longbench_summarized_datasets_ratio3.json\"\n",
    "with open(output_file_path, \"w\", encoding=\"utf-8\") as f_out:\n",
    "  json.dump(summarized_data_ratio1, f_out, indent=4)"
   ]
  },
  {
   "cell_type": "code",
   "execution_count": null,
   "id": "f6468d52-5745-4fa5-93dc-6ead2c490035",
   "metadata": {},
   "outputs": [],
   "source": [
    "start_time = time.time()\n",
    "summarized_data_ratio2 = []\n",
    "ctr = 0\n",
    "\n",
    "for item in dataset:\n",
    "    print(ctr)\n",
    "    ctr += 1\n",
    "    time1 = time.time()\n",
    "    try:\n",
    "        summarized_context = generate_multiple_summaries(item['context'], tokenizer, model, ratios[0])\n",
    "        input_text = \"Read the following text and answer briefly.\\n\\n{context}\\n\\nNow, answer the following question based on the above text, only give me the answer and do not output any other words.\\n\\nQuestion: {input}\\nAnswer:\".format(context=summarized_context, input=item[\"input\"])\n",
    "        summarized_item = item.copy()\n",
    "        summarized_item[\"summary\"] = input_text\n",
    "        summarized_data_ratio2.append(summarized_item)\n",
    "    except Exception as e:\n",
    "        print(f\"Error summarizing item: {e}\")\n",
    "        summarized_item = item.copy()\n",
    "        summarized_item[\"summary\"] = \"Summary Failed\"\n",
    "        summarized_data_ratio2.append(summarized_item)\n",
    "    print(\"time taken for this step = \", time.time() - time1)\n",
    "\n",
    "end_time = time.time()\n",
    "execution_time = end_time - start_time\n",
    "print(\"Execution time = \", execution_time)\n",
    "\n",
    "output_file_path = \"longbench_summarized_datasets_ratio3.json\"\n",
    "with open(output_file_path, \"w\", encoding=\"utf-8\") as f_out:\n",
    "  json.dump(summarized_data_ratio2, f_out, indent=4)"
   ]
  },
  {
   "cell_type": "code",
   "execution_count": null,
   "id": "93f6fad2-1c11-4868-90b6-d217a43d4c70",
   "metadata": {},
   "outputs": [
    {
     "name": "stdout",
     "output_type": "stream",
     "text": [
      "0\n",
      "time taken for this step =  11.741273164749146\n",
      "1\n",
      "time taken for this step =  96.67515969276428\n",
      "2\n",
      "time taken for this step =  72.86250400543213\n",
      "3\n",
      "time taken for this step =  103.09430313110352\n",
      "4\n",
      "time taken for this step =  63.33922576904297\n",
      "5\n",
      "time taken for this step =  86.64067077636719\n",
      "6\n",
      "time taken for this step =  66.14185166358948\n",
      "7\n",
      "time taken for this step =  22.555176973342896\n",
      "8\n",
      "time taken for this step =  10.58476972579956\n",
      "9\n",
      "time taken for this step =  100.92014408111572\n",
      "10\n",
      "time taken for this step =  81.70458030700684\n",
      "11\n",
      "time taken for this step =  84.03439712524414\n",
      "12\n",
      "time taken for this step =  99.49449801445007\n",
      "13\n",
      "time taken for this step =  63.003211975097656\n",
      "14\n",
      "time taken for this step =  77.21896409988403\n",
      "15\n",
      "time taken for this step =  20.822147130966187\n",
      "16\n",
      "time taken for this step =  70.05341172218323\n",
      "17\n",
      "time taken for this step =  77.20126080513\n",
      "18\n",
      "time taken for this step =  81.54230165481567\n",
      "19\n",
      "time taken for this step =  30.475788593292236\n",
      "20\n",
      "time taken for this step =  19.218783855438232\n",
      "21\n",
      "time taken for this step =  65.37904977798462\n",
      "22\n",
      "time taken for this step =  47.71330904960632\n",
      "23\n",
      "time taken for this step =  47.357033014297485\n",
      "24\n",
      "time taken for this step =  107.1858823299408\n",
      "25\n",
      "time taken for this step =  57.527665853500366\n",
      "26\n",
      "time taken for this step =  89.29854846000671\n",
      "27\n",
      "time taken for this step =  125.04506158828735\n",
      "28\n",
      "time taken for this step =  68.32370829582214\n",
      "29\n"
     ]
    }
   ],
   "source": [
    "start_time = time.time()\n",
    "summarized_data_ratio3 = []\n",
    "ctr = 0\n",
    "\n",
    "for item in dataset:\n",
    "    print(ctr)\n",
    "    ctr += 1\n",
    "    time1 = time.time()\n",
    "    try:\n",
    "        summarized_context = generate_multiple_summaries(item['context'], tokenizer, model, ratios[0])\n",
    "        input_text = \"Read the following text and answer briefly.\\n\\n{context}\\n\\nNow, answer the following question based on the above text, only give me the answer and do not output any other words.\\n\\nQuestion: {input}\\nAnswer:\".format(context=summarized_context, input=item[\"input\"])\n",
    "        summarized_item = item.copy()\n",
    "        summarized_item[\"summary\"] = input_text\n",
    "        summarized_data_ratio3.append(summarized_item)\n",
    "    except Exception as e:\n",
    "        print(f\"Error summarizing item: {e}\")\n",
    "        summarized_item = item.copy()\n",
    "        summarized_item[\"summary\"] = \"Summary Failed\"\n",
    "        summarized_data_ratio3.append(summarized_item)\n",
    "    print(\"time taken for this step = \", time.time() - time1)\n",
    "\n",
    "end_time = time.time()\n",
    "execution_time = end_time - start_time\n",
    "print(\"Execution time = \", execution_time)\n",
    "\n",
    "output_file_path = \"longbench_summarized_datasets_ratio3.json\"\n",
    "with open(output_file_path, \"w\", encoding=\"utf-8\") as f_out:\n",
    "  json.dump(summarized_data_ratio3, f_out, indent=4)"
   ]
  },
  {
   "cell_type": "code",
   "execution_count": null,
   "id": "be903bba-88fe-4446-a8f9-9d232524da91",
   "metadata": {},
   "outputs": [],
   "source": []
  }
 ],
 "metadata": {
  "kernelspec": {
   "display_name": "Python 3 (ipykernel)",
   "language": "python",
   "name": "python3"
  },
  "language_info": {
   "codemirror_mode": {
    "name": "ipython",
    "version": 3
   },
   "file_extension": ".py",
   "mimetype": "text/x-python",
   "name": "python",
   "nbconvert_exporter": "python",
   "pygments_lexer": "ipython3",
   "version": "3.11.9"
  }
 },
 "nbformat": 4,
 "nbformat_minor": 5
}
