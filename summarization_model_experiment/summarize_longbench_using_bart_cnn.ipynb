{
 "cells": [
  {
   "cell_type": "code",
   "execution_count": 1,
   "id": "975d1b61-e6b5-4ea2-be2b-2e059fc91126",
   "metadata": {},
   "outputs": [],
   "source": [
    "import os\n",
    "import time\n",
    "import torch\n",
    "import csv\n",
    "from datasets import load_dataset\n",
    "from transformers import BartForConditionalGeneration, BartTokenizer"
   ]
  },
  {
   "cell_type": "code",
   "execution_count": 2,
   "id": "922d211f-efa7-4e62-a747-fa336767bdae",
   "metadata": {},
   "outputs": [],
   "source": [
    "ratios = [0.5, 0.6, 0.7]\n",
    "torch.cuda.empty_cache()\n",
    "device = torch.device(\"cuda\" if torch.cuda.is_available() else \"cpu\")\n",
    "dataset_name = \"multifieldqa_en\"\n",
    "dataset = load_dataset(\"THUDM/LongBench\", dataset_name, split=\"test\", cache_dir=\"custom_cache_dir\", trust_remote_code=True)"
   ]
  },
  {
   "cell_type": "code",
   "execution_count": 3,
   "id": "a53806ed-dcec-484a-bc4e-fb9ab1336119",
   "metadata": {},
   "outputs": [],
   "source": [
    "summ_model_name = 'facebook/bart-large-cnn'\n",
    "summ_model = BartForConditionalGeneration.from_pretrained(summ_model_name).to(device)\n",
    "summ_tokenizer = BartTokenizer.from_pretrained(summ_model_name)"
   ]
  },
  {
   "cell_type": "code",
   "execution_count": 4,
   "id": "13c94e64-333a-4865-88d5-3b0d840fbba2",
   "metadata": {},
   "outputs": [],
   "source": [
    "def summarize_text(input_text, ratio):\n",
    "    inputs = summ_tokenizer(input_text, return_tensors=\"pt\", max_length=1024, truncation=True).to(device)\n",
    "    input_token_length = inputs['input_ids'].shape[1]\n",
    "    target_length = int(input_token_length * ratio)\n",
    "    summary_ids = summ_model.generate(\n",
    "        inputs['input_ids'], \n",
    "        max_length=min(target_length + 100, 1024),  # Maximum summary length based on compression ratio\n",
    "        min_length=target_length,  # Optional: set a minimum length to avoid very short summaries\n",
    "        # length_penalty=2.0,  # Optional: tweak the length penalty to get more compact summaries\n",
    "        num_beams=4,  # Optional: use beam search for better quality\n",
    "        \n",
    "        early_stopping=True  # Stops early if the beam has converged\n",
    "    )\n",
    "    # print(input_token_length, len(summary_ids[0]))\n",
    "    summary = summ_tokenizer.decode(summary_ids[0], skip_special_tokens=True)\n",
    "    return summary\n",
    "\n",
    "def generate_multiple_summaries(input_text, ratio):\n",
    "  idx = 0\n",
    "  input_len = len(input_text)\n",
    "  summary = \"\"\n",
    "  while idx < input_len:\n",
    "    end_idx = min(idx+4000, input_len)\n",
    "    summary += \" \" + summarize_text(input_text[idx:end_idx], ratio)\n",
    "    idx = end_idx + 1\n",
    "  return summary\n",
    "\n",
    "def write_dicts_to_csv(data, filename):\n",
    "    file_exists = os.path.isfile(filename)\n",
    "    fieldnames = list(data[0].keys())\n",
    "    # Open the file in append mode if it exists, otherwise write mode\n",
    "    with open(filename, mode='a' if file_exists else 'w', newline='', encoding='utf-8') as file:\n",
    "        writer = csv.DictWriter(file, fieldnames=fieldnames)\n",
    "\n",
    "        # Write the header only if the file is being created\n",
    "        if not file_exists:\n",
    "            writer.writeheader()\n",
    "\n",
    "        # Write the rows\n",
    "        writer.writerows(data)"
   ]
  },
  {
   "cell_type": "code",
   "execution_count": 5,
   "id": "aff72a93-f9f2-4c01-886b-b079663c47ed",
   "metadata": {},
   "outputs": [],
   "source": [
    "def generate_dataset_summaries(ratio, n, start = 0):\n",
    "    all_data = [None] * n\n",
    "    filename = f\"summarize_{int(ratio * 100)}.csv\"\n",
    "    \n",
    "    for i in range(start, start + n):\n",
    "        item = dataset[i].copy()\n",
    "        start_time = time.time()\n",
    "        try:\n",
    "            summ_context = generate_multiple_summaries(item[\"context\"], ratio)\n",
    "            item[\"summary\"] = summ_context\n",
    "            all_data[i - start] = item\n",
    "        except Exception as e:\n",
    "            item[\"summary\"] = \"Failed to generate summary\"\n",
    "            print(\"Failed to generate summary :\", e)\n",
    "            all_data[i - start] = item\n",
    "        print(f\"Step {i}: {time.time()-start_time}\")\n",
    "    \n",
    "    write_dicts_to_csv(all_data, filename)\n",
    "    return all_data"
   ]
  },
  {
   "cell_type": "code",
   "execution_count": 7,
   "id": "534f9534-92f2-4623-8700-e8dcb5e9c4ac",
   "metadata": {},
   "outputs": [
    {
     "name": "stdout",
     "output_type": "stream",
     "text": [
      "Step 0: 21.386173963546753\n",
      "Step 1: 180.09903645515442\n",
      "Step 2: 133.42056441307068\n",
      "Step 3: 201.87702631950378\n",
      "Step 4: 118.67760038375854\n",
      "Step 5: 162.7499794960022\n",
      "Step 6: 124.14846968650818\n",
      "Step 7: 44.573601961135864\n",
      "Step 8: 22.610684871673584\n",
      "Step 9: 194.89532351493835\n"
     ]
    }
   ],
   "source": [
    "all_data_70 = generate_dataset_summaries(ratio=0.7, n=10, start=0)"
   ]
  },
  {
   "cell_type": "code",
   "execution_count": 12,
   "id": "10ff42e7-5b9e-4d7f-ac01-7fce4edeba39",
   "metadata": {},
   "outputs": [
    {
     "name": "stdout",
     "output_type": "stream",
     "text": [
      "Step 10: 113.77387475967407\n",
      "Step 11: 160.10191774368286\n",
      "Step 12: 194.67646169662476\n",
      "Step 13: 122.11745715141296\n",
      "Step 14: 150.01493501663208\n",
      "Step 15: 40.058085918426514\n",
      "Step 16: 131.24954986572266\n",
      "Step 17: 145.52287673950195\n",
      "Step 18: 156.06720209121704\n",
      "Step 19: 61.887725591659546\n",
      "Step 20: 32.349858045578\n",
      "Step 21: 117.89512300491333\n",
      "Step 22: 88.87893509864807\n",
      "Step 23: 82.55633282661438\n",
      "Step 24: 183.78623151779175\n",
      "Step 25: 100.80478835105896\n",
      "Step 26: 151.42920184135437\n",
      "Step 27: 229.25206351280212\n",
      "Step 28: 122.76475739479065\n",
      "Step 29: 141.39921927452087\n"
     ]
    }
   ],
   "source": [
    "all_data_70_pt2 = generate_dataset_summaries(ratio=0.7, n=20, start=10)"
   ]
  },
  {
   "cell_type": "code",
   "execution_count": 19,
   "id": "7bfd9e4c-cbdb-43b6-861c-d876a453c518",
   "metadata": {},
   "outputs": [
    {
     "name": "stdout",
     "output_type": "stream",
     "text": [
      "Step 31: 86.04330492019653\n",
      "Step 32: 120.18569111824036\n",
      "Step 33: 89.70646524429321\n",
      "Step 34: 109.9111316204071\n",
      "Step 35: 85.49796867370605\n",
      "Step 36: 31.43401861190796\n",
      "Step 37: 87.48950815200806\n",
      "Step 38: 47.55823850631714\n",
      "Step 39: 39.38619804382324\n",
      "Step 40: 41.11901021003723\n",
      "Step 41: 21.376736164093018\n",
      "Step 42: 55.44414305686951\n",
      "Step 43: 102.46521282196045\n",
      "Step 44: 79.87469625473022\n",
      "Step 45: 93.14845943450928\n",
      "Step 46: 65.12417578697205\n",
      "Step 47: 77.8309257030487\n",
      "Step 48: 29.090771198272705\n",
      "Step 49: 22.946280479431152\n",
      "Step 50: 27.28671884536743\n"
     ]
    }
   ],
   "source": [
    "all_data_70_pt3 = generate_dataset_summaries(ratio=0.7, n=20, start=31)"
   ]
  },
  {
   "cell_type": "code",
   "execution_count": 21,
   "id": "3c5422d3-af70-495b-8458-bf8f569624b2",
   "metadata": {},
   "outputs": [
    {
     "name": "stdout",
     "output_type": "stream",
     "text": [
      "Step 0: 9.92168378829956\n",
      "Step 1: 82.9163761138916\n",
      "Step 2: 63.05988359451294\n",
      "Step 3: 92.89555954933167\n",
      "Step 4: 55.51726841926575\n",
      "Step 5: 72.20669102668762\n",
      "Step 6: 58.414210081100464\n",
      "Step 7: 20.26397132873535\n",
      "Step 8: 10.262131452560425\n",
      "Step 9: 84.88992023468018\n",
      "Step 10: 68.33250164985657\n",
      "Step 11: 74.01338791847229\n",
      "Step 12: 85.16296243667603\n",
      "Step 13: 58.198068141937256\n",
      "Step 14: 69.83821105957031\n",
      "Step 15: 19.995205879211426\n",
      "Step 16: 60.45523977279663\n",
      "Step 17: 65.05537915229797\n",
      "Step 18: 71.2682557106018\n",
      "Step 19: 27.353734970092773\n"
     ]
    }
   ],
   "source": [
    "all_data_50 = generate_dataset_summaries(ratio=0.5, n=20, start=0)"
   ]
  },
  {
   "cell_type": "code",
   "execution_count": 6,
   "id": "852adfd9-3202-420c-9076-19a7e9d48da2",
   "metadata": {},
   "outputs": [
    {
     "name": "stdout",
     "output_type": "stream",
     "text": [
      "Step 21: 53.4440541267395\n",
      "Step 22: 40.368181467056274\n",
      "Step 23: 37.19951367378235\n",
      "Step 24: 80.91890096664429\n",
      "Step 25: 46.82876968383789\n",
      "Step 26: 65.73007082939148\n",
      "Step 27: 100.17182731628418\n",
      "Step 28: 54.463985443115234\n",
      "Step 29: 65.86658453941345\n",
      "Step 30: 29.05880856513977\n",
      "Step 31: 38.95351052284241\n",
      "Step 32: 55.36174559593201\n",
      "Step 33: 40.17489957809448\n",
      "Step 34: 51.12066864967346\n",
      "Step 35: 37.7234148979187\n",
      "Step 36: 13.751059532165527\n",
      "Step 37: 52.18760824203491\n",
      "Step 38: 32.754300355911255\n",
      "Step 39: 26.962358236312866\n",
      "Step 40: 27.517829179763794\n",
      "Step 41: 14.517345666885376\n",
      "Step 42: 37.877095222473145\n",
      "Step 43: 71.99322628974915\n",
      "Step 44: 56.82924556732178\n",
      "Step 45: 65.41368222236633\n",
      "Step 46: 57.69158315658569\n",
      "Step 47: 64.61412501335144\n",
      "Step 48: 25.192261219024658\n",
      "Step 49: 21.414840936660767\n",
      "Step 50: 24.731569528579712\n"
     ]
    }
   ],
   "source": "all_data_50_pt2 = generate_dataset_summaries(ratio=0.5, n=30, start=21)"
  }
 ],
 "metadata": {
  "kernelspec": {
   "display_name": "Python 3 (ipykernel)",
   "language": "python",
   "name": "python3"
  },
  "language_info": {
   "codemirror_mode": {
    "name": "ipython",
    "version": 3
   },
   "file_extension": ".py",
   "mimetype": "text/x-python",
   "name": "python",
   "nbconvert_exporter": "python",
   "pygments_lexer": "ipython3",
   "version": "3.11.9"
  }
 },
 "nbformat": 4,
 "nbformat_minor": 5
}
